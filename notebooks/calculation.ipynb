{
 "cells": [
  {
   "cell_type": "code",
   "execution_count": 2,
   "id": "83e804d8",
   "metadata": {},
   "outputs": [],
   "source": [
    "import numpy as np\n",
    "from scipy.stats import norm\n",
    "\n",
    "\n",
    "def portfolio_projection(C, N, mu, sigma, percentiles=[10, 50, 90]):\n",
    "    \"\"\"\n",
    "    Calculate the p-th percentiles of the N-year accumulated value W\n",
    "    when investing a fixed amount C at the end of each year,\n",
    "    with returns ~ N(mu, sigma^2), using closed-form mean-variance lognormal approximation.\n",
    "\n",
    "    Parameters:\n",
    "    - C: float, annual contribution\n",
    "    - N: int, number of years\n",
    "    - mu: float, expected return per year (e.g., 0.06 for 6%)\n",
    "    - sigma: float, volatility per year (e.g., 0.15 for 15%)\n",
    "    - percentiles: list of floats, desired percentiles (0-100)\n",
    "\n",
    "    Returns:\n",
    "    - dict mapping each percentile to the projected value\n",
    "    \"\"\"\n",
    "    # Building blocks\n",
    "    m = 1 + mu\n",
    "    A = m**2 + sigma**2\n",
    "\n",
    "    # Mean of W\n",
    "    E = C * (m**N - 1) / (m - 1)\n",
    "    # Second moment of W\n",
    "    S = (A**N - 1) / (A - 1)\n",
    "    T = sum((m**p) * ((A ** (N - p) - 1) / (A - 1)) for p in range(1, N))\n",
    "    second_moment = C**2 * (S + 2 * T)\n",
    "\n",
    "    # Variance of W\n",
    "    V = second_moment - E**2\n",
    "\n",
    "    # Lognormal approximation parameters\n",
    "    sigma_w2 = np.log(1 + V / E**2)\n",
    "    sigma_w = np.sqrt(sigma_w2)\n",
    "    mu_w = np.log(E) - 0.5 * sigma_w2\n",
    "\n",
    "    # Compute percentiles\n",
    "    results = {}\n",
    "    for p in percentiles:\n",
    "        if p == 50:\n",
    "            results[p] = E  # use mean for median\n",
    "        else:\n",
    "            z = norm.ppf(p / 100)\n",
    "            results[p] = np.exp(mu_w + z * sigma_w)\n",
    "\n",
    "    return results"
   ]
  },
  {
   "cell_type": "code",
   "execution_count": 3,
   "id": "40be903e",
   "metadata": {},
   "outputs": [],
   "source": [
    "def base_case_projection(C, N, mu):\n",
    "    \"\"\"\n",
    "     N-year portfolio projection with\n",
    "    annual contributions at end of each year and normally-distributed returns.\n",
    "    \"\"\"\n",
    "    # Initialize an array to store the portfolio value at the end of each year.\n",
    "    # We start with a value of 0 at year 0.\n",
    "    portfolio_path = np.zeros(N + 1)\n",
    "\n",
    "    # Loop through each year to calculate the new portfolio value.\n",
    "    for year in range(1, N + 1):\n",
    "        # The new value is the previous year's value grown by the return,\n",
    "        # plus the new contribution for the current year.\n",
    "        portfolio_path[year] = portfolio_path[year - 1] * (1 + mu) + C\n",
    "\n",
    "    # Return the path, excluding the initial value at year 0.\n",
    "    return portfolio_path[1:]"
   ]
  },
  {
   "cell_type": "code",
   "execution_count": 4,
   "id": "734a576f",
   "metadata": {},
   "outputs": [],
   "source": [
    "import numpy as np\n",
    "\n",
    "\n",
    "def mc_portfolio_projection(C, N, mu, sigma, num_sims=100000, seed=None):\n",
    "    \"\"\"\n",
    "    Monte Carlo simulation for N-year portfolio projection with\n",
    "    annual contributions at end of each year and normally-distributed returns.\n",
    "\n",
    "    Parameters:\n",
    "    - C: float, annual contribution\n",
    "    - N: int, number of years\n",
    "    - mu: float, expected return per year (e.g., 0.06 for 6%)\n",
    "    - sigma: float, volatility per year (e.g., 0.15 for 15%)\n",
    "    - num_sims: int, number of simulation paths\n",
    "    - seed: int or None, random seed for reproducibility\n",
    "\n",
    "    Returns:\n",
    "    - dict with keys 'mean', '10th_percentile', '90th_percentile'\n",
    "    \"\"\"\n",
    "    if seed is not None:\n",
    "        np.random.seed(seed)\n",
    "\n",
    "    # Simulate returns: shape (num_sims, N)\n",
    "    returns = np.random.normal(mu, sigma, size=(num_sims, N))\n",
    "    growth = 1 + returns\n",
    "\n",
    "    # Initialize array for portfolio value\n",
    "    portfolio = np.zeros(num_sims)\n",
    "\n",
    "    # For each year: apply return, then contribute C at end of year\n",
    "    for year in range(N):\n",
    "        portfolio *= growth[:, year]\n",
    "        portfolio += C\n",
    "\n",
    "    # Compute statistics\n",
    "    mean = portfolio.mean()\n",
    "    pct10 = np.percentile(portfolio, 10)\n",
    "    pct90 = np.percentile(portfolio, 90)\n",
    "\n",
    "    return {\"mean\": mean, \"10th_percentile\": pct10, \"90th_percentile\": pct90}"
   ]
  },
  {
   "cell_type": "code",
   "execution_count": 13,
   "id": "abae9cca",
   "metadata": {},
   "outputs": [
    {
     "data": {
      "text/plain": [
       "{10: 10454684.849671938, 50: 16459353.598717427, 90: 23460038.819853365}"
      ]
     },
     "execution_count": 13,
     "metadata": {},
     "output_type": "execute_result"
    }
   ],
   "source": [
    "C = 300_000\n",
    "N = 25\n",
    "mu = 0.06\n",
    "sigma = 0.10\n",
    "percentiles = [10, 50, 90]\n",
    "num_sims = 200_000\n",
    "seed = 42\n",
    "\n",
    "res = portfolio_projection(C=C, N=N, mu=mu, sigma=sigma, percentiles=percentiles)\n",
    "res"
   ]
  },
  {
   "cell_type": "code",
   "execution_count": 15,
   "id": "2c4867e5",
   "metadata": {},
   "outputs": [
    {
     "data": {
      "text/plain": [
       "(11954684.849671938, 24960038.819853365)"
      ]
     },
     "execution_count": 15,
     "metadata": {},
     "output_type": "execute_result"
    }
   ],
   "source": [
    "res[10] + 60_000 * 25, res[90] + 60_000 * 25"
   ]
  },
  {
   "cell_type": "code",
   "execution_count": 9,
   "id": "5bdf5f25",
   "metadata": {},
   "outputs": [
    {
     "data": {
      "text/plain": [
       "{'mean': 16445829.165690389,\n",
       " '10th_percentile': 10515826.617756704,\n",
       " '90th_percentile': 23417944.79658501}"
      ]
     },
     "execution_count": 9,
     "metadata": {},
     "output_type": "execute_result"
    }
   ],
   "source": [
    "res = mc_portfolio_projection(\n",
    "    C=C, N=N, mu=mu, sigma=sigma, num_sims=num_sims, seed=seed\n",
    ")\n",
    "res"
   ]
  },
  {
   "cell_type": "code",
   "execution_count": 11,
   "id": "f6faf257",
   "metadata": {},
   "outputs": [
    {
     "data": {
      "text/plain": [
       "16459353.598717425"
      ]
     },
     "execution_count": 11,
     "metadata": {},
     "output_type": "execute_result"
    }
   ],
   "source": [
    "res = base_case_projection(C=C, N=N, mu=mu)\n",
    "res[-1]"
   ]
  },
  {
   "cell_type": "code",
   "execution_count": null,
   "id": "bd65c3a7",
   "metadata": {},
   "outputs": [],
   "source": []
  }
 ],
 "metadata": {
  "kernelspec": {
   "display_name": "Python 3",
   "language": "python",
   "name": "python3"
  },
  "language_info": {
   "codemirror_mode": {
    "name": "ipython",
    "version": 3
   },
   "file_extension": ".py",
   "mimetype": "text/x-python",
   "name": "python",
   "nbconvert_exporter": "python",
   "pygments_lexer": "ipython3",
   "version": "3.12.4"
  }
 },
 "nbformat": 4,
 "nbformat_minor": 5
}
